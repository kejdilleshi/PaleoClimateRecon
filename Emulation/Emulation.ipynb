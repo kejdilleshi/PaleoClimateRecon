{
 "cells": [
  {
   "cell_type": "code",
   "execution_count": 1,
   "metadata": {},
   "outputs": [],
   "source": [
    "import numpy as np\n",
    "import matplotlib.pyplot as plt\n",
    "import netCDF4 as nc\n",
    "from mpl_toolkits.axes_grid1 import make_axes_locatable\n"
   ]
  },
  {
   "cell_type": "code",
   "execution_count": 2,
   "metadata": {},
   "outputs": [],
   "source": [
    "# Open the netCDF file\n",
    "nc_file = nc.Dataset('fordle/ela_data/train/ALP00_A78_C0/ex.nc', 'r')\n",
    "# Get the number of records in the file\n",
    "num_records = nc_file.dimensions['idx'].size"
   ]
  },
  {
   "cell_type": "code",
   "execution_count": 3,
   "metadata": {},
   "outputs": [],
   "source": [
    "# Define the index to split the file\n",
    "split_index = int(num_records*0.8)  # Change this to your desired split index"
   ]
  },
  {
   "cell_type": "code",
   "execution_count": 4,
   "metadata": {},
   "outputs": [],
   "source": [
    "# Create two separate netCDF files\n",
    "part1_file = nc.Dataset('part1.nc', 'w', format='NETCDF4')\n",
    "part2_file = nc.Dataset('part2.nc', 'w', format='NETCDF4')\n"
   ]
  },
  {
   "cell_type": "code",
   "execution_count": 5,
   "metadata": {},
   "outputs": [],
   "source": [
    "# Copy global attributes from the original file\n",
    "part1_file.setncatts(nc_file.__dict__)\n",
    "part2_file.setncatts(nc_file.__dict__)"
   ]
  },
  {
   "cell_type": "code",
   "execution_count": 6,
   "metadata": {},
   "outputs": [],
   "source": [
    "# Create dimensions in the new files \n",
    "exclude=['x','y','idx']\n",
    "for name, dimension in nc_file.dimensions.items():\n",
    "    if name == 'idx':\n",
    "        part1_file.createDimension(name, split_index)\n",
    "        part2_file.createDimension(name, num_records - split_index)\n",
    "    else:\n",
    "        part1_file.createDimension(name, len(dimension))\n",
    "        part2_file.createDimension(name, len(dimension))\n"
   ]
  },
  {
   "cell_type": "code",
   "execution_count": 7,
   "metadata": {},
   "outputs": [],
   "source": [
    "# Copy variables from the original file to the new files\n",
    "for name, variable in nc_file.variables.items():\n",
    "    if name not in exclude:\n",
    "        # Create variables in the new files\n",
    "        var1 = part1_file.createVariable(name, variable.dtype, variable.dimensions)\n",
    "        var2 = part2_file.createVariable(name, variable.dtype, variable.dimensions)\n",
    "        \n",
    "        \n",
    "        # Copy variable data based on the split index\n",
    "        part1_file[name][:] = nc_file[name][:split_index] \n",
    "        part2_file[name][:] = nc_file[name][split_index:] \n",
    "\n",
    "  "
   ]
  },
  {
   "cell_type": "code",
   "execution_count": null,
   "metadata": {},
   "outputs": [],
   "source": [
    "# Copy variables from the original file to the new files\n",
    "for name, variable in nc_file.variables.items():\n",
    "    if name in ['ela', 'topg', 'footprint']:\n",
    "        # Create variables in the new files\n",
    "        var1 = part1_file.createVariable(name, variable.dtype, variable.dimensions)\n",
    "        var2 = part2_file.createVariable(name, variable.dtype, variable.dimensions)\n",
    "\n",
    "        # Copy variable attributes\n",
    "        var1.setncatts(variable.__dict__)\n",
    "        var2.setncatts(variable.__dict__)\n",
    "\n",
    "        # Copy variable data based on the split index\n",
    "        var1[:] = variable[:split_index]\n",
    "        var2[:] = variable[split_index:]\n"
   ]
  },
  {
   "cell_type": "code",
   "execution_count": 8,
   "metadata": {},
   "outputs": [],
   "source": [
    "# Close the files\n",
    "nc_file.close()\n",
    "part1_file.close()\n",
    "part2_file.close()"
   ]
  },
  {
   "cell_type": "code",
   "execution_count": null,
   "metadata": {},
   "outputs": [],
   "source": []
  }
 ],
 "metadata": {
  "kernelspec": {
   "display_name": "base",
   "language": "python",
   "name": "python3"
  },
  "language_info": {
   "codemirror_mode": {
    "name": "ipython",
    "version": 3
   },
   "file_extension": ".py",
   "mimetype": "text/x-python",
   "name": "python",
   "nbconvert_exporter": "python",
   "pygments_lexer": "ipython3",
   "version": "3.9.12"
  },
  "orig_nbformat": 4
 },
 "nbformat": 4,
 "nbformat_minor": 2
}
