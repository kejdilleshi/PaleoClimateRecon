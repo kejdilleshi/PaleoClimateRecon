{
 "cells": [
  {
   "cell_type": "code",
   "execution_count": 1,
   "metadata": {},
   "outputs": [
    {
     "name": "stderr",
     "output_type": "stream",
     "text": [
      "2023-05-15 16:18:31.896122: I tensorflow/core/util/util.cc:169] oneDNN custom operations are on. You may see slightly different numerical results due to floating-point round-off errors from different computation orders. To turn them off, set the environment variable `TF_ENABLE_ONEDNN_OPTS=0`.\n",
      "2023-05-15 16:18:31.899761: W tensorflow/stream_executor/platform/default/dso_loader.cc:64] Could not load dynamic library 'libcudart.so.11.0'; dlerror: libcudart.so.11.0: cannot open shared object file: No such file or directory\n",
      "2023-05-15 16:18:31.899775: I tensorflow/stream_executor/cuda/cudart_stub.cc:29] Ignore above cudart dlerror if you do not have a GPU set up on your machine.\n"
     ]
    }
   ],
   "source": [
    "import numpy as np\n",
    "import matplotlib.pyplot as plt\n",
    "import netCDF4 as nc\n",
    "from mpl_toolkits.axes_grid1 import make_axes_locatable\n",
    "import tensorflow as tf\n",
    "import os"
   ]
  },
  {
   "cell_type": "code",
   "execution_count": 2,
   "metadata": {},
   "outputs": [],
   "source": [
    "# Open the netCDF file\n",
    "nc_file = nc.Dataset('fordle/ela_data/train/ALP00_A78_C0/ex.nc', 'r')\n",
    "# Get the number of records in the file\n",
    "num_records = nc_file.dimensions['idx'].size"
   ]
  },
  {
   "cell_type": "code",
   "execution_count": 3,
   "metadata": {},
   "outputs": [],
   "source": [
    "# Define the index to split the file\n",
    "split_index = num_records*0.8  # Change this to your desired split index"
   ]
  },
  {
   "cell_type": "code",
   "execution_count": 17,
   "metadata": {},
   "outputs": [],
   "source": [
    "# Create two separate netCDF files\n",
    "part1_file = nc.Dataset('part1.nc', 'w', format='NETCDF4')\n",
    "part2_file = nc.Dataset('part2.nc', 'w', format='NETCDF4')\n"
   ]
  },
  {
   "cell_type": "code",
   "execution_count": 18,
   "metadata": {},
   "outputs": [],
   "source": [
    "# Copy global attributes from the original file\n",
    "part1_file.setncatts(nc_file.__dict__)\n",
    "part2_file.setncatts(nc_file.__dict__)"
   ]
  },
  {
   "cell_type": "code",
   "execution_count": 19,
   "metadata": {},
   "outputs": [],
   "source": [
    "# Create dimensions in the new files \n",
    "exlude=['x']\n",
    "for name, dimension in nc_file.dimensions.items():\n",
    "    exlude.append(dimension)\n",
    "    if name == 'idx':\n",
    "        part1_file.createDimension(name, split_index)\n",
    "        part2_file.createDimension(name, num_records - split_index)\n",
    "    else:\n",
    "        part1_file.createDimension(name, len(dimension))\n",
    "        part2_file.createDimension(name, len(dimension))\n"
   ]
  },
  {
   "cell_type": "code",
   "execution_count": 7,
   "metadata": {},
   "outputs": [
    {
     "name": "stdout",
     "output_type": "stream",
     "text": [
      "x\n"
     ]
    },
    {
     "ename": "TypeError",
     "evalue": "slice indices must be integers or None or have an __index__ method",
     "output_type": "error",
     "traceback": [
      "\u001b[0;31m---------------------------------------------------------------------------\u001b[0m",
      "\u001b[0;31mTypeError\u001b[0m                                 Traceback (most recent call last)",
      "\u001b[1;32m/home/klleshi/Documents/PaleoClimateReconstruction/Emulation/Emulation.ipynb Cell 7\u001b[0m in \u001b[0;36m<cell line: 2>\u001b[0;34m()\u001b[0m\n\u001b[1;32m     <a href='vscode-notebook-cell:/home/klleshi/Documents/PaleoClimateReconstruction/Emulation/Emulation.ipynb#W6sZmlsZQ%3D%3D?line=9'>10</a>\u001b[0m \u001b[39mprint\u001b[39m(name)\n\u001b[1;32m     <a href='vscode-notebook-cell:/home/klleshi/Documents/PaleoClimateReconstruction/Emulation/Emulation.ipynb#W6sZmlsZQ%3D%3D?line=11'>12</a>\u001b[0m \u001b[39m# Copy variable data based on the split index\u001b[39;00m\n\u001b[0;32m---> <a href='vscode-notebook-cell:/home/klleshi/Documents/PaleoClimateReconstruction/Emulation/Emulation.ipynb#W6sZmlsZQ%3D%3D?line=12'>13</a>\u001b[0m var1[name][:] \u001b[39m=\u001b[39m nc_file[name][:split_index]\n\u001b[1;32m     <a href='vscode-notebook-cell:/home/klleshi/Documents/PaleoClimateReconstruction/Emulation/Emulation.ipynb#W6sZmlsZQ%3D%3D?line=13'>14</a>\u001b[0m var2[name][:] \u001b[39m=\u001b[39m nc_file[name][split_index:]\n",
      "File \u001b[0;32msrc/netCDF4/_netCDF4.pyx:4715\u001b[0m, in \u001b[0;36mnetCDF4._netCDF4.Variable.__getitem__\u001b[0;34m()\u001b[0m\n",
      "File \u001b[0;32m~/anaconda3/lib/python3.9/site-packages/netCDF4/utils.py:421\u001b[0m, in \u001b[0;36m_StartCountStride\u001b[0;34m(elem, shape, dimensions, grp, datashape, put, use_get_vars)\u001b[0m\n\u001b[1;32m    418\u001b[0m     \u001b[39melse\u001b[39;00m:\n\u001b[1;32m    419\u001b[0m         length \u001b[39m=\u001b[39m shape[i]\n\u001b[0;32m--> 421\u001b[0m beg, end, inc \u001b[39m=\u001b[39m e\u001b[39m.\u001b[39;49mindices(length)\n\u001b[1;32m    422\u001b[0m n \u001b[39m=\u001b[39m \u001b[39mlen\u001b[39m(\u001b[39mrange\u001b[39m(beg,end,inc))\n\u001b[1;32m    424\u001b[0m start[\u001b[39m.\u001b[39m\u001b[39m.\u001b[39m\u001b[39m.\u001b[39m,i] \u001b[39m=\u001b[39m beg\n",
      "\u001b[0;31mTypeError\u001b[0m: slice indices must be integers or None or have an __index__ method"
     ]
    }
   ],
   "source": [
    "# Copy variables from the original file to the new files\n",
    "for name, variable in nc_file.variables.items():\n",
    "    # Create variables in the new files\n",
    "    var1 = part1_file.createVariable(name, variable.dtype, variable.dimensions)\n",
    "    var2 = part2_file.createVariable(name, variable.dtype, variable.dimensions)\n",
    "\n",
    "    # Copy variable attributes\n",
    "    var1.setncatts(variable.__dict__)\n",
    "    var2.setncatts(variable.__dict__)\n",
    "    print(name)\n",
    "    \n",
    "    # Copy variable data based on the split index\n",
    "    var1[name][:] = nc_file[name][:split_index]\n",
    "    var2[name][:] = nc_file[name][split_index:]\n"
   ]
  },
  {
   "cell_type": "code",
   "execution_count": null,
   "metadata": {},
   "outputs": [],
   "source": [
    "# Close the files\n",
    "nc_file.close()\n",
    "part1_file.close()\n",
    "part2_file.close()"
   ]
  },
  {
   "cell_type": "code",
   "execution_count": 8,
   "metadata": {},
   "outputs": [
    {
     "name": "stdout",
     "output_type": "stream",
     "text": [
      "x\n",
      "y\n",
      "idx\n",
      "max_thk\n",
      "topg\n",
      "ela\n"
     ]
    }
   ],
   "source": [
    "# Copy variables from the original file to the new files\n",
    "for name, variable in nc_file.variables.items():\n",
    "     print(name)"
   ]
  },
  {
   "cell_type": "code",
   "execution_count": 13,
   "metadata": {},
   "outputs": [
    {
     "data": {
      "text/plain": [
       "<class 'netCDF4._netCDF4.Dataset'>\n",
       "root group (NETCDF4 data model, file format HDF5):\n",
       "    dimensions(sizes): x(451), y(301), idx(200)\n",
       "    variables(dimensions): \n",
       "    groups: "
      ]
     },
     "execution_count": 13,
     "metadata": {},
     "output_type": "execute_result"
    }
   ],
   "source": [
    "part2_file"
   ]
  },
  {
   "cell_type": "code",
   "execution_count": 14,
   "metadata": {},
   "outputs": [
    {
     "data": {
      "text/plain": [
       "<class 'netCDF4._netCDF4.Variable'>\n",
       "float32 x(x)\n",
       "    _FillValue: nan\n",
       "unlimited dimensions: \n",
       "current shape = (451,)\n",
       "filling on"
      ]
     },
     "execution_count": 14,
     "metadata": {},
     "output_type": "execute_result"
    }
   ],
   "source": [
    "var1"
   ]
  },
  {
   "cell_type": "code",
   "execution_count": 22,
   "metadata": {},
   "outputs": [
    {
     "data": {
      "text/plain": [
       "1000"
      ]
     },
     "execution_count": 22,
     "metadata": {},
     "output_type": "execute_result"
    }
   ],
   "source": [
    "len(dimension)"
   ]
  },
  {
   "cell_type": "code",
   "execution_count": 10,
   "metadata": {},
   "outputs": [
    {
     "data": {
      "text/plain": [
       "dict_items([('x', <class 'netCDF4._netCDF4.Variable'>\n",
       "float32 x(x)\n",
       "    _FillValue: nan\n",
       "unlimited dimensions: \n",
       "current shape = (451,)\n",
       "filling on), ('y', <class 'netCDF4._netCDF4.Variable'>\n",
       "float32 y(y)\n",
       "    _FillValue: nan\n",
       "unlimited dimensions: \n",
       "current shape = (301,)\n",
       "filling on), ('idx', <class 'netCDF4._netCDF4.Variable'>\n",
       "float64 idx(idx)\n",
       "    _FillValue: nan\n",
       "unlimited dimensions: \n",
       "current shape = (1000,)\n",
       "filling on), ('max_thk', <class 'netCDF4._netCDF4.Variable'>\n",
       "float32 max_thk(idx, y, x)\n",
       "    _FillValue: nan\n",
       "unlimited dimensions: \n",
       "current shape = (1000, 301, 451)\n",
       "filling on), ('topg', <class 'netCDF4._netCDF4.Variable'>\n",
       "float32 topg(idx, y, x)\n",
       "    _FillValue: nan\n",
       "unlimited dimensions: \n",
       "current shape = (1000, 301, 451)\n",
       "filling on), ('ela', <class 'netCDF4._netCDF4.Variable'>\n",
       "float32 ela(idx, y, x)\n",
       "    _FillValue: nan\n",
       "unlimited dimensions: \n",
       "current shape = (1000, 301, 451)\n",
       "filling on)])"
      ]
     },
     "execution_count": 10,
     "metadata": {},
     "output_type": "execute_result"
    }
   ],
   "source": [
    "nc_file.variables.items()"
   ]
  },
  {
   "cell_type": "code",
   "execution_count": null,
   "metadata": {},
   "outputs": [],
   "source": []
  }
 ],
 "metadata": {
  "kernelspec": {
   "display_name": "base",
   "language": "python",
   "name": "python3"
  },
  "language_info": {
   "codemirror_mode": {
    "name": "ipython",
    "version": 3
   },
   "file_extension": ".py",
   "mimetype": "text/x-python",
   "name": "python",
   "nbconvert_exporter": "python",
   "pygments_lexer": "ipython3",
   "version": "3.9.12"
  },
  "orig_nbformat": 4
 },
 "nbformat": 4,
 "nbformat_minor": 2
}
